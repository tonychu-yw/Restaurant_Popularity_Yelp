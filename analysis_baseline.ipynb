{
 "cells": [
  {
   "cell_type": "markdown",
   "metadata": {},
   "source": [
    "# Part 0: Import Libraries"
   ]
  },
  {
   "cell_type": "code",
   "execution_count": 1,
   "metadata": {},
   "outputs": [],
   "source": [
    "import pandas as pd \n",
    "import numpy as np\n",
    "\n",
    "import matplotlib.pyplot as plt\n",
    "import seaborn as sn\n",
    "from warnings import filterwarnings\n",
    "\n",
    "from sklearn.preprocessing import StandardScaler\n",
    "from sklearn.linear_model import LinearRegression\n",
    "from sklearn.linear_model import LogisticRegression\n",
    "from sklearn.metrics import accuracy_score\n",
    "from sklearn.metrics import mean_squared_error\n",
    "from sklearn.metrics import confusion_matrix"
   ]
  },
  {
   "cell_type": "markdown",
   "metadata": {},
   "source": [
    "# Part 1: Import Data"
   ]
  },
  {
   "cell_type": "code",
   "execution_count": 2,
   "metadata": {},
   "outputs": [],
   "source": [
    "# Import data\n",
    "feature = pd.read_csv(r\"D:\\Tony\\Programming\\Datasets\\Yelp\\yelp_feature_train.csv\", encoding='utf-8')"
   ]
  },
  {
   "cell_type": "code",
   "execution_count": 3,
   "metadata": {},
   "outputs": [
    {
     "data": {
      "text/plain": [
       "(428724, 18)"
      ]
     },
     "execution_count": 3,
     "metadata": {},
     "output_type": "execute_result"
    }
   ],
   "source": [
    "feature.shape"
   ]
  },
  {
   "cell_type": "code",
   "execution_count": 4,
   "metadata": {},
   "outputs": [
    {
     "data": {
      "text/html": [
       "<div>\n",
       "<style scoped>\n",
       "    .dataframe tbody tr th:only-of-type {\n",
       "        vertical-align: middle;\n",
       "    }\n",
       "\n",
       "    .dataframe tbody tr th {\n",
       "        vertical-align: top;\n",
       "    }\n",
       "\n",
       "    .dataframe thead th {\n",
       "        text-align: right;\n",
       "    }\n",
       "</style>\n",
       "<table border=\"1\" class=\"dataframe\">\n",
       "  <thead>\n",
       "    <tr style=\"text-align: right;\">\n",
       "      <th></th>\n",
       "      <th>business_id</th>\n",
       "      <th>user_id</th>\n",
       "      <th>review_stars</th>\n",
       "      <th>review_like</th>\n",
       "      <th>text</th>\n",
       "      <th>text_len</th>\n",
       "      <th>restaurant_avg_stars</th>\n",
       "      <th>restaurant_review_count</th>\n",
       "      <th>city_review_count</th>\n",
       "      <th>centrality</th>\n",
       "      <th>user_avg_stars</th>\n",
       "      <th>user_review_count</th>\n",
       "      <th>user_fans</th>\n",
       "      <th>user_period</th>\n",
       "      <th>user_compliments</th>\n",
       "      <th>user_votes</th>\n",
       "      <th>popularity</th>\n",
       "      <th>pop_label</th>\n",
       "    </tr>\n",
       "  </thead>\n",
       "  <tbody>\n",
       "    <tr>\n",
       "      <td>0</td>\n",
       "      <td>oj8qk3W7O9oq15VIs-vYJQ</td>\n",
       "      <td>UreiTV1I9i-XF6_bJhK6Iw</td>\n",
       "      <td>5.0</td>\n",
       "      <td>0</td>\n",
       "      <td>new favorite place breakfast first time came h...</td>\n",
       "      <td>54</td>\n",
       "      <td>4.375000</td>\n",
       "      <td>64</td>\n",
       "      <td>436.0</td>\n",
       "      <td>2.207263e-21</td>\n",
       "      <td>3.55</td>\n",
       "      <td>104</td>\n",
       "      <td>0</td>\n",
       "      <td>8</td>\n",
       "      <td>2</td>\n",
       "      <td>80</td>\n",
       "      <td>4.694428</td>\n",
       "      <td>5.0</td>\n",
       "    </tr>\n",
       "    <tr>\n",
       "      <td>1</td>\n",
       "      <td>YFqlMM1tFn0C4b9aHdzOgg</td>\n",
       "      <td>UreiTV1I9i-XF6_bJhK6Iw</td>\n",
       "      <td>4.0</td>\n",
       "      <td>0</td>\n",
       "      <td>nice place food good nice wines pour decent si...</td>\n",
       "      <td>54</td>\n",
       "      <td>4.448276</td>\n",
       "      <td>29</td>\n",
       "      <td>839.0</td>\n",
       "      <td>2.207263e-21</td>\n",
       "      <td>3.55</td>\n",
       "      <td>104</td>\n",
       "      <td>0</td>\n",
       "      <td>8</td>\n",
       "      <td>2</td>\n",
       "      <td>80</td>\n",
       "      <td>4.367999</td>\n",
       "      <td>5.0</td>\n",
       "    </tr>\n",
       "    <tr>\n",
       "      <td>2</td>\n",
       "      <td>YFqlMM1tFn0C4b9aHdzOgg</td>\n",
       "      <td>UreiTV1I9i-XF6_bJhK6Iw</td>\n",
       "      <td>4.0</td>\n",
       "      <td>0</td>\n",
       "      <td>nice place food good nice wines pour decent si...</td>\n",
       "      <td>42</td>\n",
       "      <td>4.448276</td>\n",
       "      <td>29</td>\n",
       "      <td>839.0</td>\n",
       "      <td>2.207263e-21</td>\n",
       "      <td>3.55</td>\n",
       "      <td>104</td>\n",
       "      <td>0</td>\n",
       "      <td>8</td>\n",
       "      <td>2</td>\n",
       "      <td>80</td>\n",
       "      <td>4.367999</td>\n",
       "      <td>5.0</td>\n",
       "    </tr>\n",
       "  </tbody>\n",
       "</table>\n",
       "</div>"
      ],
      "text/plain": [
       "              business_id                 user_id  review_stars  review_like  \\\n",
       "0  oj8qk3W7O9oq15VIs-vYJQ  UreiTV1I9i-XF6_bJhK6Iw           5.0            0   \n",
       "1  YFqlMM1tFn0C4b9aHdzOgg  UreiTV1I9i-XF6_bJhK6Iw           4.0            0   \n",
       "2  YFqlMM1tFn0C4b9aHdzOgg  UreiTV1I9i-XF6_bJhK6Iw           4.0            0   \n",
       "\n",
       "                                                text  text_len  \\\n",
       "0  new favorite place breakfast first time came h...        54   \n",
       "1  nice place food good nice wines pour decent si...        54   \n",
       "2  nice place food good nice wines pour decent si...        42   \n",
       "\n",
       "   restaurant_avg_stars  restaurant_review_count  city_review_count  \\\n",
       "0              4.375000                       64              436.0   \n",
       "1              4.448276                       29              839.0   \n",
       "2              4.448276                       29              839.0   \n",
       "\n",
       "     centrality  user_avg_stars  user_review_count  user_fans  user_period  \\\n",
       "0  2.207263e-21            3.55                104          0            8   \n",
       "1  2.207263e-21            3.55                104          0            8   \n",
       "2  2.207263e-21            3.55                104          0            8   \n",
       "\n",
       "   user_compliments  user_votes  popularity  pop_label  \n",
       "0                 2          80    4.694428        5.0  \n",
       "1                 2          80    4.367999        5.0  \n",
       "2                 2          80    4.367999        5.0  "
      ]
     },
     "execution_count": 4,
     "metadata": {},
     "output_type": "execute_result"
    }
   ],
   "source": [
    "feature.head(3)"
   ]
  },
  {
   "cell_type": "markdown",
   "metadata": {},
   "source": [
    "# Part 2: Feature Engineering"
   ]
  },
  {
   "cell_type": "markdown",
   "metadata": {},
   "source": [
    "### Group by restaurants"
   ]
  },
  {
   "cell_type": "code",
   "execution_count": 5,
   "metadata": {},
   "outputs": [],
   "source": [
    "feature['count'] = 1\n",
    "res_feature = feature.groupby(['business_id']).agg({'review_stars':'mean', 'count':'sum', 'pop_label':'mean'})"
   ]
  },
  {
   "cell_type": "code",
   "execution_count": 6,
   "metadata": {
    "scrolled": true
   },
   "outputs": [
    {
     "data": {
      "text/html": [
       "<div>\n",
       "<style scoped>\n",
       "    .dataframe tbody tr th:only-of-type {\n",
       "        vertical-align: middle;\n",
       "    }\n",
       "\n",
       "    .dataframe tbody tr th {\n",
       "        vertical-align: top;\n",
       "    }\n",
       "\n",
       "    .dataframe thead th {\n",
       "        text-align: right;\n",
       "    }\n",
       "</style>\n",
       "<table border=\"1\" class=\"dataframe\">\n",
       "  <thead>\n",
       "    <tr style=\"text-align: right;\">\n",
       "      <th></th>\n",
       "      <th>review_stars</th>\n",
       "      <th>count</th>\n",
       "      <th>pop_label</th>\n",
       "    </tr>\n",
       "    <tr>\n",
       "      <th>business_id</th>\n",
       "      <th></th>\n",
       "      <th></th>\n",
       "      <th></th>\n",
       "    </tr>\n",
       "  </thead>\n",
       "  <tbody>\n",
       "    <tr>\n",
       "      <td>--9e1ONYQuAa-CB_Rrw7Tw</td>\n",
       "      <td>4.295082</td>\n",
       "      <td>183</td>\n",
       "      <td>5.0</td>\n",
       "    </tr>\n",
       "    <tr>\n",
       "      <td>--FBCX-N37CMYDfs790Bnw</td>\n",
       "      <td>4.047619</td>\n",
       "      <td>21</td>\n",
       "      <td>4.0</td>\n",
       "    </tr>\n",
       "    <tr>\n",
       "      <td>--I7YYLada0tSLkORTHb5Q</td>\n",
       "      <td>3.526316</td>\n",
       "      <td>19</td>\n",
       "      <td>3.0</td>\n",
       "    </tr>\n",
       "  </tbody>\n",
       "</table>\n",
       "</div>"
      ],
      "text/plain": [
       "                        review_stars  count  pop_label\n",
       "business_id                                           \n",
       "--9e1ONYQuAa-CB_Rrw7Tw      4.295082    183        5.0\n",
       "--FBCX-N37CMYDfs790Bnw      4.047619     21        4.0\n",
       "--I7YYLada0tSLkORTHb5Q      3.526316     19        3.0"
      ]
     },
     "execution_count": 6,
     "metadata": {},
     "output_type": "execute_result"
    }
   ],
   "source": [
    "res_feature.head(3)"
   ]
  },
  {
   "cell_type": "code",
   "execution_count": 7,
   "metadata": {},
   "outputs": [
    {
     "data": {
      "text/plain": [
       "(3444, 3268, 3115, 3683, 3561)"
      ]
     },
     "execution_count": 7,
     "metadata": {},
     "output_type": "execute_result"
    }
   ],
   "source": [
    "len(res_feature[res_feature['pop_label'] == 1]), len(res_feature[res_feature['pop_label'] == 2]), \\\n",
    "len(res_feature[res_feature['pop_label'] == 3]), len(res_feature[res_feature['pop_label'] == 4]), \\\n",
    "len(res_feature[res_feature['pop_label'] == 5])"
   ]
  },
  {
   "cell_type": "markdown",
   "metadata": {},
   "source": [
    "### Define X-train and y-train"
   ]
  },
  {
   "cell_type": "code",
   "execution_count": 8,
   "metadata": {},
   "outputs": [],
   "source": [
    "X_train = res_feature[['review_stars', 'count']]\n",
    "y_train = res_feature['pop_label'].astype(int)"
   ]
  },
  {
   "cell_type": "markdown",
   "metadata": {},
   "source": [
    "### Scale features"
   ]
  },
  {
   "cell_type": "code",
   "execution_count": 9,
   "metadata": {},
   "outputs": [],
   "source": [
    "scaler = StandardScaler()\n",
    "X_train = scaler.fit_transform(X_train)"
   ]
  },
  {
   "cell_type": "markdown",
   "metadata": {},
   "source": [
    "# Part 3: Simple Regression"
   ]
  },
  {
   "cell_type": "code",
   "execution_count": 10,
   "metadata": {},
   "outputs": [
    {
     "data": {
      "text/plain": [
       "LogisticRegression(C=1.0, class_weight=None, dual=False, fit_intercept=True,\n",
       "                   intercept_scaling=1, l1_ratio=None, max_iter=1000,\n",
       "                   multi_class='auto', n_jobs=None, penalty='l2',\n",
       "                   random_state=0, solver='lbfgs', tol=0.0001, verbose=0,\n",
       "                   warm_start=False)"
      ]
     },
     "execution_count": 10,
     "metadata": {},
     "output_type": "execute_result"
    }
   ],
   "source": [
    "reg = LogisticRegression(max_iter=1000, random_state=0)\n",
    "reg.fit(X_train, y_train)"
   ]
  },
  {
   "cell_type": "markdown",
   "metadata": {},
   "source": [
    "# Part 4: Model Validation"
   ]
  },
  {
   "cell_type": "markdown",
   "metadata": {},
   "source": [
    "### Import test data"
   ]
  },
  {
   "cell_type": "code",
   "execution_count": 11,
   "metadata": {},
   "outputs": [],
   "source": [
    "# import data\n",
    "test = pd.read_csv(r\"D:\\Tony\\Programming\\Datasets\\Yelp\\yelp_feature_test.csv\", encoding='utf-8')\n",
    "test['count'] = 1\n",
    "res_test = test.groupby(['business_id']).agg({'review_stars':'mean', 'count':'sum', 'pop_label':'mean'})\n",
    "\n",
    "# define X and y\n",
    "X_test = res_test[['review_stars', 'count']]\n",
    "y_test = res_test['pop_label'].astype(int)\n",
    "\n",
    "# scale feature\n",
    "X_test = scaler.transform(X_test)"
   ]
  },
  {
   "cell_type": "markdown",
   "metadata": {},
   "source": [
    "### Predict test data"
   ]
  },
  {
   "cell_type": "code",
   "execution_count": 12,
   "metadata": {},
   "outputs": [],
   "source": [
    "pred = reg.predict(X_test)"
   ]
  },
  {
   "cell_type": "markdown",
   "metadata": {},
   "source": [
    "### Test accuracy"
   ]
  },
  {
   "cell_type": "code",
   "execution_count": 13,
   "metadata": {
    "scrolled": true
   },
   "outputs": [
    {
     "name": "stdout",
     "output_type": "stream",
     "text": [
      "acc:\t 0.4461\n",
      "RMSE:\t 1.2063\n"
     ]
    }
   ],
   "source": [
    "# Calculate accuracy\n",
    "acc = accuracy_score(y_test, pred)\n",
    "\n",
    "# Calculate RMSE\n",
    "rmse = (mean_squared_error(y_test, pred))**(0.5)\n",
    "\n",
    "print(\"acc:\\t\", round(acc,4))\n",
    "print(\"RMSE:\\t\", round(rmse,4))"
   ]
  },
  {
   "cell_type": "markdown",
   "metadata": {},
   "source": [
    "### Baseline accuracy"
   ]
  },
  {
   "cell_type": "code",
   "execution_count": 14,
   "metadata": {
    "scrolled": true
   },
   "outputs": [
    {
     "name": "stdout",
     "output_type": "stream",
     "text": [
      "baseline acc:\t 0.1938\n",
      "baseline RMSE:\t 1.4208\n"
     ]
    }
   ],
   "source": [
    "base_acc = accuracy_score(y_test, np.repeat(3, len(y_test)))\n",
    "base_rmse = (mean_squared_error(y_test, np.repeat(3, len(y_test))))**(0.5)\n",
    "print(\"baseline acc:\\t\", round(base_acc,4))\n",
    "print(\"baseline RMSE:\\t\", round(base_rmse,4))"
   ]
  },
  {
   "cell_type": "markdown",
   "metadata": {},
   "source": [
    "### Confusion matrix"
   ]
  },
  {
   "cell_type": "code",
   "execution_count": 15,
   "metadata": {},
   "outputs": [
    {
     "data": {
      "text/plain": [
       "Text(0.5, 1, 'Confusion Matrix')"
      ]
     },
     "execution_count": 15,
     "metadata": {},
     "output_type": "execute_result"
    },
    {
     "data": {
      "image/png": "[encoded data removed]",
      "text/plain": [
       "<Figure size 720x504 with 2 Axes>"
      ]
     },
     "metadata": {
      "needs_background": "light"
     },
     "output_type": "display_data"
    }
   ],
   "source": [
    "labels = [1,2,3,4,5]\n",
    "cm = confusion_matrix(y_test, pred, labels, normalize='true')\n",
    "cm_df = pd.DataFrame(cm, index=[i for i in labels], columns=[i for i in labels])\n",
    "\n",
    "plt.figure(figsize = (10,7))\n",
    "ax = plt.subplot()\n",
    "sn.heatmap(cm_df, annot=True, cmap='BuPu', ax=ax)\n",
    "ax.set_xlabel('Predicted labels')\n",
    "ax.set_ylabel('True labels')\n",
    "ax.set_title('Confusion Matrix')"
   ]
  }
 ],
 "metadata": {
  "kernelspec": {
   "display_name": "Python 3",
   "language": "python",
   "name": "python3"
  },
  "language_info": {
   "codemirror_mode": {
    "name": "ipython",
    "version": 3
   },
   "file_extension": ".py",
   "mimetype": "text/x-python",
   "name": "python",
   "nbconvert_exporter": "python",
   "pygments_lexer": "ipython3",
   "version": "3.7.4"
  }
 },
 "nbformat": 4,
 "nbformat_minor": 2
}
