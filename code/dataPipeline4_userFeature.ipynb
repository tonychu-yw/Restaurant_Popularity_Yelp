{
 "cells": [
  {
   "cell_type": "markdown",
   "metadata": {},
   "source": [
    "# Part 0: Import Libraries"
   ]
  },
  {
   "cell_type": "code",
   "execution_count": 1,
   "metadata": {},
   "outputs": [],
   "source": [
    "import pandas as pd \n",
    "import numpy as np\n",
    "import random\n",
    "import matplotlib.pyplot as plt"
   ]
  },
  {
   "cell_type": "markdown",
   "metadata": {},
   "source": [
    "# Part 1: Import Data"
   ]
  },
  {
   "cell_type": "code",
   "execution_count": 2,
   "metadata": {},
   "outputs": [],
   "source": [
    "feature = pd.read_csv(r\"D:\\Tony\\Programming\\Datasets\\Yelp\\yelp_feature.csv\", encoding='utf-8')\n",
    "user = pd.read_csv(r\"D:\\Tony\\Programming\\Datasets\\Yelp\\yelp_users.csv\", encoding='utf-8')"
   ]
  },
  {
   "cell_type": "code",
   "execution_count": 3,
   "metadata": {},
   "outputs": [
    {
     "data": {
      "text/html": [
       "<div>\n",
       "<style scoped>\n",
       "    .dataframe tbody tr th:only-of-type {\n",
       "        vertical-align: middle;\n",
       "    }\n",
       "\n",
       "    .dataframe tbody tr th {\n",
       "        vertical-align: top;\n",
       "    }\n",
       "\n",
       "    .dataframe thead th {\n",
       "        text-align: right;\n",
       "    }\n",
       "</style>\n",
       "<table border=\"1\" class=\"dataframe\">\n",
       "  <thead>\n",
       "    <tr style=\"text-align: right;\">\n",
       "      <th></th>\n",
       "      <th>business_id</th>\n",
       "      <th>user_id</th>\n",
       "      <th>stars</th>\n",
       "      <th>like</th>\n",
       "      <th>text</th>\n",
       "      <th>popularity</th>\n",
       "      <th>pop_label</th>\n",
       "      <th>city_count</th>\n",
       "      <th>text_len</th>\n",
       "      <th>avg_stars</th>\n",
       "      <th>review_count</th>\n",
       "    </tr>\n",
       "  </thead>\n",
       "  <tbody>\n",
       "    <tr>\n",
       "      <td>0</td>\n",
       "      <td>d_q4avZYM1sOlQP7noJKVg</td>\n",
       "      <td>UreiTV1I9i-XF6_bJhK6Iw</td>\n",
       "      <td>4.0</td>\n",
       "      <td>1</td>\n",
       "      <td>always fun outing come great hot dogs fixings ...</td>\n",
       "      <td>-1.647653</td>\n",
       "      <td>1.0</td>\n",
       "      <td>69200.0</td>\n",
       "      <td>17</td>\n",
       "      <td>3.514286</td>\n",
       "      <td>35</td>\n",
       "    </tr>\n",
       "    <tr>\n",
       "      <td>1</td>\n",
       "      <td>ACb637NG7EnswRs8U_BX_w</td>\n",
       "      <td>dZxXGlJtNwr9pag5UXCa4A</td>\n",
       "      <td>5.0</td>\n",
       "      <td>0</td>\n",
       "      <td>travel lots business one funniest places heath...</td>\n",
       "      <td>0.599975</td>\n",
       "      <td>3.0</td>\n",
       "      <td>17812.0</td>\n",
       "      <td>14</td>\n",
       "      <td>3.817391</td>\n",
       "      <td>115</td>\n",
       "    </tr>\n",
       "    <tr>\n",
       "      <td>2</td>\n",
       "      <td>kBJfBVaXJtPEKLTov1hJdQ</td>\n",
       "      <td>dZudYQD1T2U5RSJeJWYCLw</td>\n",
       "      <td>5.0</td>\n",
       "      <td>2</td>\n",
       "      <td>i'm arizona reathrey sekong food good authenti...</td>\n",
       "      <td>6.550951</td>\n",
       "      <td>5.0</td>\n",
       "      <td>69200.0</td>\n",
       "      <td>12</td>\n",
       "      <td>4.418182</td>\n",
       "      <td>55</td>\n",
       "    </tr>\n",
       "  </tbody>\n",
       "</table>\n",
       "</div>"
      ],
      "text/plain": [
       "              business_id                 user_id  stars  like  \\\n",
       "0  d_q4avZYM1sOlQP7noJKVg  UreiTV1I9i-XF6_bJhK6Iw    4.0     1   \n",
       "1  ACb637NG7EnswRs8U_BX_w  dZxXGlJtNwr9pag5UXCa4A    5.0     0   \n",
       "2  kBJfBVaXJtPEKLTov1hJdQ  dZudYQD1T2U5RSJeJWYCLw    5.0     2   \n",
       "\n",
       "                                                text  popularity  pop_label  \\\n",
       "0  always fun outing come great hot dogs fixings ...   -1.647653        1.0   \n",
       "1  travel lots business one funniest places heath...    0.599975        3.0   \n",
       "2  i'm arizona reathrey sekong food good authenti...    6.550951        5.0   \n",
       "\n",
       "   city_count  text_len  avg_stars  review_count  \n",
       "0     69200.0        17   3.514286            35  \n",
       "1     17812.0        14   3.817391           115  \n",
       "2     69200.0        12   4.418182            55  "
      ]
     },
     "execution_count": 3,
     "metadata": {},
     "output_type": "execute_result"
    }
   ],
   "source": [
    "feature.head(3)"
   ]
  },
  {
   "cell_type": "code",
   "execution_count": 4,
   "metadata": {
    "scrolled": false
   },
   "outputs": [
    {
     "data": {
      "text/html": [
       "<div>\n",
       "<style scoped>\n",
       "    .dataframe tbody tr th:only-of-type {\n",
       "        vertical-align: middle;\n",
       "    }\n",
       "\n",
       "    .dataframe tbody tr th {\n",
       "        vertical-align: top;\n",
       "    }\n",
       "\n",
       "    .dataframe thead th {\n",
       "        text-align: right;\n",
       "    }\n",
       "</style>\n",
       "<table border=\"1\" class=\"dataframe\">\n",
       "  <thead>\n",
       "    <tr style=\"text-align: right;\">\n",
       "      <th></th>\n",
       "      <th>user_id</th>\n",
       "      <th>centrality</th>\n",
       "      <th>average_stars</th>\n",
       "      <th>review_count</th>\n",
       "      <th>fans</th>\n",
       "      <th>period</th>\n",
       "      <th>sum_compliment</th>\n",
       "      <th>sum_votes</th>\n",
       "    </tr>\n",
       "  </thead>\n",
       "  <tbody>\n",
       "    <tr>\n",
       "      <td>0</td>\n",
       "      <td>FOBRPlBHa3WPHFB5qYDlVg</td>\n",
       "      <td>4.514520e-21</td>\n",
       "      <td>3.84</td>\n",
       "      <td>564</td>\n",
       "      <td>27</td>\n",
       "      <td>12</td>\n",
       "      <td>270</td>\n",
       "      <td>1506</td>\n",
       "    </tr>\n",
       "    <tr>\n",
       "      <td>1</td>\n",
       "      <td>f4_MRNHvN-yRn7EA8YWRxg</td>\n",
       "      <td>-1.157870e-20</td>\n",
       "      <td>3.63</td>\n",
       "      <td>822</td>\n",
       "      <td>137</td>\n",
       "      <td>9</td>\n",
       "      <td>3130</td>\n",
       "      <td>9451</td>\n",
       "    </tr>\n",
       "    <tr>\n",
       "      <td>2</td>\n",
       "      <td>q-v8elVPvKz0KvK69QSj1Q</td>\n",
       "      <td>3.540635e-18</td>\n",
       "      <td>3.37</td>\n",
       "      <td>666</td>\n",
       "      <td>197</td>\n",
       "      <td>11</td>\n",
       "      <td>908</td>\n",
       "      <td>6106</td>\n",
       "    </tr>\n",
       "  </tbody>\n",
       "</table>\n",
       "</div>"
      ],
      "text/plain": [
       "                  user_id    centrality  average_stars  review_count  fans  \\\n",
       "0  FOBRPlBHa3WPHFB5qYDlVg  4.514520e-21           3.84           564    27   \n",
       "1  f4_MRNHvN-yRn7EA8YWRxg -1.157870e-20           3.63           822   137   \n",
       "2  q-v8elVPvKz0KvK69QSj1Q  3.540635e-18           3.37           666   197   \n",
       "\n",
       "   period  sum_compliment  sum_votes  \n",
       "0      12             270       1506  \n",
       "1       9            3130       9451  \n",
       "2      11             908       6106  "
      ]
     },
     "execution_count": 4,
     "metadata": {},
     "output_type": "execute_result"
    }
   ],
   "source": [
    "user.head(3)"
   ]
  },
  {
   "cell_type": "markdown",
   "metadata": {},
   "source": [
    "# Part 2: Combine Data"
   ]
  },
  {
   "cell_type": "code",
   "execution_count": 5,
   "metadata": {},
   "outputs": [],
   "source": [
    "feature = pd.merge(feature, user, how='inner', on='user_id')"
   ]
  },
  {
   "cell_type": "code",
   "execution_count": 6,
   "metadata": {},
   "outputs": [
    {
     "data": {
      "text/plain": [
       "(660000, 18)"
      ]
     },
     "execution_count": 6,
     "metadata": {},
     "output_type": "execute_result"
    }
   ],
   "source": [
    "feature.shape"
   ]
  },
  {
   "cell_type": "code",
   "execution_count": 7,
   "metadata": {},
   "outputs": [],
   "source": [
    "feature.columns = ['business_id', 'user_id', 'review_stars', 'review_like', 'text', 'popularity', 'pop_label',\n",
    "                   'city_review_count', 'text_len', 'restaurant_avg_stars', 'restaurant_review_count',\n",
    "                   'centrality', 'user_avg_stars', 'user_review_count', \n",
    "                   'user_fans', 'user_period', 'user_compliments', 'user_votes']\n",
    "feature = feature[['business_id', 'user_id', 'review_stars', 'review_like', 'text', 'text_len', \n",
    "                   'restaurant_avg_stars', 'restaurant_review_count', 'city_review_count', \n",
    "                   'centrality', 'user_avg_stars', 'user_review_count', \n",
    "                   'user_fans', 'user_period', 'user_compliments', 'user_votes',\n",
    "                   'popularity', 'pop_label']]"
   ]
  },
  {
   "cell_type": "code",
   "execution_count": 8,
   "metadata": {},
   "outputs": [
    {
     "data": {
      "text/plain": [
       "(660000, 18)"
      ]
     },
     "execution_count": 8,
     "metadata": {},
     "output_type": "execute_result"
    }
   ],
   "source": [
    "feature.shape"
   ]
  },
  {
   "cell_type": "code",
   "execution_count": 9,
   "metadata": {},
   "outputs": [
    {
     "data": {
      "text/html": [
       "<div>\n",
       "<style scoped>\n",
       "    .dataframe tbody tr th:only-of-type {\n",
       "        vertical-align: middle;\n",
       "    }\n",
       "\n",
       "    .dataframe tbody tr th {\n",
       "        vertical-align: top;\n",
       "    }\n",
       "\n",
       "    .dataframe thead th {\n",
       "        text-align: right;\n",
       "    }\n",
       "</style>\n",
       "<table border=\"1\" class=\"dataframe\">\n",
       "  <thead>\n",
       "    <tr style=\"text-align: right;\">\n",
       "      <th></th>\n",
       "      <th>business_id</th>\n",
       "      <th>user_id</th>\n",
       "      <th>review_stars</th>\n",
       "      <th>review_like</th>\n",
       "      <th>text</th>\n",
       "      <th>text_len</th>\n",
       "      <th>restaurant_avg_stars</th>\n",
       "      <th>restaurant_review_count</th>\n",
       "      <th>city_review_count</th>\n",
       "      <th>centrality</th>\n",
       "      <th>user_avg_stars</th>\n",
       "      <th>user_review_count</th>\n",
       "      <th>user_fans</th>\n",
       "      <th>user_period</th>\n",
       "      <th>user_compliments</th>\n",
       "      <th>user_votes</th>\n",
       "      <th>popularity</th>\n",
       "      <th>pop_label</th>\n",
       "    </tr>\n",
       "  </thead>\n",
       "  <tbody>\n",
       "    <tr>\n",
       "      <td>0</td>\n",
       "      <td>d_q4avZYM1sOlQP7noJKVg</td>\n",
       "      <td>UreiTV1I9i-XF6_bJhK6Iw</td>\n",
       "      <td>4.0</td>\n",
       "      <td>1</td>\n",
       "      <td>always fun outing come great hot dogs fixings ...</td>\n",
       "      <td>17</td>\n",
       "      <td>3.514286</td>\n",
       "      <td>35</td>\n",
       "      <td>69200.0</td>\n",
       "      <td>2.207263e-21</td>\n",
       "      <td>3.55</td>\n",
       "      <td>104</td>\n",
       "      <td>0</td>\n",
       "      <td>8</td>\n",
       "      <td>2</td>\n",
       "      <td>80</td>\n",
       "      <td>-1.647653</td>\n",
       "      <td>1.0</td>\n",
       "    </tr>\n",
       "    <tr>\n",
       "      <td>1</td>\n",
       "      <td>oj8qk3W7O9oq15VIs-vYJQ</td>\n",
       "      <td>UreiTV1I9i-XF6_bJhK6Iw</td>\n",
       "      <td>5.0</td>\n",
       "      <td>0</td>\n",
       "      <td>new favorite place breakfast first time came h...</td>\n",
       "      <td>54</td>\n",
       "      <td>4.375000</td>\n",
       "      <td>64</td>\n",
       "      <td>436.0</td>\n",
       "      <td>2.207263e-21</td>\n",
       "      <td>3.55</td>\n",
       "      <td>104</td>\n",
       "      <td>0</td>\n",
       "      <td>8</td>\n",
       "      <td>2</td>\n",
       "      <td>80</td>\n",
       "      <td>4.694428</td>\n",
       "      <td>5.0</td>\n",
       "    </tr>\n",
       "    <tr>\n",
       "      <td>2</td>\n",
       "      <td>YFqlMM1tFn0C4b9aHdzOgg</td>\n",
       "      <td>UreiTV1I9i-XF6_bJhK6Iw</td>\n",
       "      <td>4.0</td>\n",
       "      <td>0</td>\n",
       "      <td>nice place food good nice wines pour decent si...</td>\n",
       "      <td>54</td>\n",
       "      <td>4.448276</td>\n",
       "      <td>29</td>\n",
       "      <td>839.0</td>\n",
       "      <td>2.207263e-21</td>\n",
       "      <td>3.55</td>\n",
       "      <td>104</td>\n",
       "      <td>0</td>\n",
       "      <td>8</td>\n",
       "      <td>2</td>\n",
       "      <td>80</td>\n",
       "      <td>4.367999</td>\n",
       "      <td>5.0</td>\n",
       "    </tr>\n",
       "  </tbody>\n",
       "</table>\n",
       "</div>"
      ],
      "text/plain": [
       "              business_id                 user_id  review_stars  review_like  \\\n",
       "0  d_q4avZYM1sOlQP7noJKVg  UreiTV1I9i-XF6_bJhK6Iw           4.0            1   \n",
       "1  oj8qk3W7O9oq15VIs-vYJQ  UreiTV1I9i-XF6_bJhK6Iw           5.0            0   \n",
       "2  YFqlMM1tFn0C4b9aHdzOgg  UreiTV1I9i-XF6_bJhK6Iw           4.0            0   \n",
       "\n",
       "                                                text  text_len  \\\n",
       "0  always fun outing come great hot dogs fixings ...        17   \n",
       "1  new favorite place breakfast first time came h...        54   \n",
       "2  nice place food good nice wines pour decent si...        54   \n",
       "\n",
       "   restaurant_avg_stars  restaurant_review_count  city_review_count  \\\n",
       "0              3.514286                       35            69200.0   \n",
       "1              4.375000                       64              436.0   \n",
       "2              4.448276                       29              839.0   \n",
       "\n",
       "     centrality  user_avg_stars  user_review_count  user_fans  user_period  \\\n",
       "0  2.207263e-21            3.55                104          0            8   \n",
       "1  2.207263e-21            3.55                104          0            8   \n",
       "2  2.207263e-21            3.55                104          0            8   \n",
       "\n",
       "   user_compliments  user_votes  popularity  pop_label  \n",
       "0                 2          80   -1.647653        1.0  \n",
       "1                 2          80    4.694428        5.0  \n",
       "2                 2          80    4.367999        5.0  "
      ]
     },
     "execution_count": 9,
     "metadata": {},
     "output_type": "execute_result"
    }
   ],
   "source": [
    "feature.head(3)"
   ]
  },
  {
   "cell_type": "markdown",
   "metadata": {},
   "source": [
    "# Part 3: Train Test Split"
   ]
  },
  {
   "cell_type": "markdown",
   "metadata": {},
   "source": [
    "### Split data"
   ]
  },
  {
   "cell_type": "code",
   "execution_count": 10,
   "metadata": {},
   "outputs": [],
   "source": [
    "# Define list of restaurants\n",
    "list_of_restaurants = feature['business_id'].unique()\n",
    "\n",
    "# Sample from list\n",
    "TRAIN = random.sample(range(len(list_of_restaurants)), round(0.8*len(list_of_restaurants)))\n",
    "list_of_restaurants_train = list_of_restaurants[TRAIN]\n",
    "list_of_restaurants_test = list(set(list_of_restaurants)-set(list_of_restaurants_train))\n",
    "VAL = random.sample(range(len(list_of_restaurants_train)), round(0.2*len(list_of_restaurants_train)))\n",
    "list_of_restaurants_val = list_of_restaurants_train[VAL]\n",
    "list_of_restaurants_train = list(set(list_of_restaurants_train)-set(list_of_restaurants_val))\n",
    "feature_train = feature[feature['business_id'].isin(list_of_restaurants_train)]\n",
    "feature_val = feature[feature['business_id'].isin(list_of_restaurants_val)]\n",
    "feature_test = feature[feature['business_id'].isin(list_of_restaurants_test)]"
   ]
  },
  {
   "cell_type": "markdown",
   "metadata": {},
   "source": [
    "### Export data"
   ]
  },
  {
   "cell_type": "code",
   "execution_count": 11,
   "metadata": {},
   "outputs": [],
   "source": [
    "feature_train.to_csv(r'D:\\Tony\\Programming\\Datasets\\Yelp\\yelp_feature_train.csv', index=False, encoding='utf-8')\n",
    "feature_val.to_csv(r'D:\\Tony\\Programming\\Datasets\\Yelp\\yelp_feature_val.csv', index=False, encoding='utf-8')\n",
    "feature_test.to_csv(r'D:\\Tony\\Programming\\Datasets\\Yelp\\yelp_feature_test.csv', index=False, encoding='utf-8')"
   ]
  }
 ],
 "metadata": {
  "kernelspec": {
   "display_name": "Python 3",
   "language": "python",
   "name": "python3"
  },
  "language_info": {
   "codemirror_mode": {
    "name": "ipython",
    "version": 3
   },
   "file_extension": ".py",
   "mimetype": "text/x-python",
   "name": "python",
   "nbconvert_exporter": "python",
   "pygments_lexer": "ipython3",
   "version": "3.7.4"
  }
 },
 "nbformat": 4,
 "nbformat_minor": 2
}
