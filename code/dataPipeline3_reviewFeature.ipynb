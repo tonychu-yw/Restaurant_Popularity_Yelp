{
 "cells": [
  {
   "cell_type": "markdown",
   "metadata": {},
   "source": [
    "# Import Libraries"
   ]
  },
  {
   "cell_type": "code",
   "execution_count": 1,
   "metadata": {
    "scrolled": true
   },
   "outputs": [],
   "source": [
    "import pandas as pd \n",
    "import numpy as np\n",
    "import random\n",
    "import matplotlib.pyplot as plt"
   ]
  },
  {
   "cell_type": "markdown",
   "metadata": {},
   "source": [
    "# Import Data"
   ]
  },
  {
   "cell_type": "code",
   "execution_count": 2,
   "metadata": {
    "scrolled": true
   },
   "outputs": [],
   "source": [
    "# Import Data\n",
    "restaurant_all = pd.read_csv(r\"D:\\Tony\\Programming\\Datasets\\Yelp\\yelp_restaurant.csv\", encoding='utf-8')\n",
    "restaurant = pd.read_csv(r\"D:\\Tony\\Programming\\Datasets\\Yelp\\yelp_restaurant_2019.csv\", encoding='utf-8')\n",
    "reviews = pd.read_csv(r\"D:\\Tony\\Programming\\Datasets\\Yelp\\yelp_reviews_2018.csv\", encoding='utf-8')"
   ]
  },
  {
   "cell_type": "markdown",
   "metadata": {},
   "source": [
    "# Calculate Features"
   ]
  },
  {
   "cell_type": "markdown",
   "metadata": {},
   "source": [
    "### Transform continuous output to classes"
   ]
  },
  {
   "cell_type": "code",
   "execution_count": 3,
   "metadata": {
    "scrolled": false
   },
   "outputs": [
    {
     "name": "stdout",
     "output_type": "stream",
     "text": [
      "2.959556950917159 1.464816384890813 0.4882721282969379 -0.7434447729291692\n"
     ]
    }
   ],
   "source": [
    "# Create target labels\n",
    "ppl80 = restaurant['popularity'].quantile(q=0.8)\n",
    "ppl60 = restaurant['popularity'].quantile(q=0.6)\n",
    "ppl40 = restaurant['popularity'].quantile(q=0.4)\n",
    "ppl20 = restaurant['popularity'].quantile(q=0.2)\n",
    "\n",
    "print(ppl80, ppl60, ppl40, ppl20)\n",
    "\n",
    "conditions = [\n",
    "    (restaurant['popularity'] >= ppl80),\n",
    "    (restaurant['popularity'] < ppl80) & (restaurant['popularity'] >= ppl60),\n",
    "    (restaurant['popularity'] < ppl60) & (restaurant['popularity'] >= ppl40),\n",
    "    (restaurant['popularity'] < ppl40) & (restaurant['popularity'] >= ppl20),\n",
    "    (restaurant['popularity'] < ppl20)\n",
    "]\n",
    "\n",
    "choices = [5,4,3,2,1]\n",
    "\n",
    "restaurant['pop_label'] = np.select(condlist=conditions, choicelist=choices)"
   ]
  },
  {
   "cell_type": "code",
   "execution_count": 21,
   "metadata": {
    "scrolled": true
   },
   "outputs": [
    {
     "data": {
      "text/plain": [
       "Text(0.5, 1.0, 'Histogram of Restaurant Popularity')"
      ]
     },
     "execution_count": 21,
     "metadata": {},
     "output_type": "execute_result"
    },
    {
     "data": {
      "image/png": "[encoded data removed]",
      "text/plain": [
       "<Figure size 432x288 with 1 Axes>"
      ]
     },
     "metadata": {
      "needs_background": "light"
     },
     "output_type": "display_data"
    }
   ],
   "source": [
    "plt.hist(restaurant['popularity'], bins=20)\n",
    "plt.title(\"Histogram of Restaurant Popularity\")"
   ]
  },
  {
   "cell_type": "code",
   "execution_count": 5,
   "metadata": {
    "scrolled": true
   },
   "outputs": [
    {
     "data": {
      "text/plain": [
       "(5537, 5522, 5292, 5778, 5554)"
      ]
     },
     "execution_count": 5,
     "metadata": {},
     "output_type": "execute_result"
    }
   ],
   "source": [
    "len(restaurant[restaurant['pop_label'] == 1]), len(restaurant[restaurant['pop_label'] == 2]), \\\n",
    "len(restaurant[restaurant['pop_label'] == 3]), len(restaurant[restaurant['pop_label'] == 4]), \\\n",
    "len(restaurant[restaurant['pop_label'] == 5])"
   ]
  },
  {
   "cell_type": "markdown",
   "metadata": {},
   "source": [
    "### Calculate city review counts"
   ]
  },
  {
   "cell_type": "code",
   "execution_count": 6,
   "metadata": {
    "scrolled": true
   },
   "outputs": [],
   "source": [
    "# Calculate overall city review counts\n",
    "reviews['count'] = 1\n",
    "ct = pd.merge(reviews, restaurant_all, how='inner', on=['business_id'])\n",
    "cities = ct.groupby(['city', 'state']).agg({'count':'sum'})\n",
    "\n",
    "# Combine calculations with restaurant df\n",
    "restaurant = pd.merge(restaurant, restaurant_all[['business_id', 'city', 'state']], how='left', on=['business_id'])\n",
    "restaurant = pd.merge(restaurant, cities, how='left', on=['city', 'state'])"
   ]
  },
  {
   "cell_type": "code",
   "execution_count": 7,
   "metadata": {
    "scrolled": true
   },
   "outputs": [
    {
     "data": {
      "text/plain": [
       "(27683, 8)"
      ]
     },
     "execution_count": 7,
     "metadata": {},
     "output_type": "execute_result"
    }
   ],
   "source": [
    "restaurant.shape"
   ]
  },
  {
   "cell_type": "code",
   "execution_count": 8,
   "metadata": {
    "scrolled": true
   },
   "outputs": [
    {
     "data": {
      "text/html": [
       "<div>\n",
       "<style scoped>\n",
       "    .dataframe tbody tr th:only-of-type {\n",
       "        vertical-align: middle;\n",
       "    }\n",
       "\n",
       "    .dataframe tbody tr th {\n",
       "        vertical-align: top;\n",
       "    }\n",
       "\n",
       "    .dataframe thead th {\n",
       "        text-align: right;\n",
       "    }\n",
       "</style>\n",
       "<table border=\"1\" class=\"dataframe\">\n",
       "  <thead>\n",
       "    <tr style=\"text-align: right;\">\n",
       "      <th></th>\n",
       "      <th>business_id</th>\n",
       "      <th>stars</th>\n",
       "      <th>count_x</th>\n",
       "      <th>popularity</th>\n",
       "      <th>pop_label</th>\n",
       "      <th>city</th>\n",
       "      <th>state</th>\n",
       "      <th>count_y</th>\n",
       "    </tr>\n",
       "  </thead>\n",
       "  <tbody>\n",
       "    <tr>\n",
       "      <td>0</td>\n",
       "      <td>--1UhMGODdWsrMastO9DZw</td>\n",
       "      <td>4.000000</td>\n",
       "      <td>3</td>\n",
       "      <td>1.098612</td>\n",
       "      <td>3</td>\n",
       "      <td>Calgary</td>\n",
       "      <td>AB</td>\n",
       "      <td>7431.0</td>\n",
       "    </tr>\n",
       "    <tr>\n",
       "      <td>1</td>\n",
       "      <td>--6MefnULPED_I942VcFNA</td>\n",
       "      <td>1.636364</td>\n",
       "      <td>11</td>\n",
       "      <td>-3.269857</td>\n",
       "      <td>1</td>\n",
       "      <td>Richmond Hill</td>\n",
       "      <td>ON</td>\n",
       "      <td>3153.0</td>\n",
       "    </tr>\n",
       "    <tr>\n",
       "      <td>2</td>\n",
       "      <td>--9e1ONYQuAa-CB_Rrw7Tw</td>\n",
       "      <td>4.083333</td>\n",
       "      <td>132</td>\n",
       "      <td>5.289702</td>\n",
       "      <td>5</td>\n",
       "      <td>Las Vegas</td>\n",
       "      <td>NV</td>\n",
       "      <td>201003.0</td>\n",
       "    </tr>\n",
       "  </tbody>\n",
       "</table>\n",
       "</div>"
      ],
      "text/plain": [
       "              business_id     stars  count_x  popularity  pop_label  \\\n",
       "0  --1UhMGODdWsrMastO9DZw  4.000000        3    1.098612          3   \n",
       "1  --6MefnULPED_I942VcFNA  1.636364       11   -3.269857          1   \n",
       "2  --9e1ONYQuAa-CB_Rrw7Tw  4.083333      132    5.289702          5   \n",
       "\n",
       "            city state   count_y  \n",
       "0        Calgary    AB    7431.0  \n",
       "1  Richmond Hill    ON    3153.0  \n",
       "2      Las Vegas    NV  201003.0  "
      ]
     },
     "execution_count": 8,
     "metadata": {},
     "output_type": "execute_result"
    }
   ],
   "source": [
    "restaurant.head(3)"
   ]
  },
  {
   "cell_type": "markdown",
   "metadata": {},
   "source": [
    "# Combine Features to One Dataframe"
   ]
  },
  {
   "cell_type": "markdown",
   "metadata": {},
   "source": [
    "### Combine reviews with restaurants"
   ]
  },
  {
   "cell_type": "code",
   "execution_count": 9,
   "metadata": {
    "scrolled": false
   },
   "outputs": [],
   "source": [
    "feature = pd.merge(reviews, restaurant, how='left', on=['business_id']) "
   ]
  },
  {
   "cell_type": "code",
   "execution_count": 10,
   "metadata": {
    "scrolled": false
   },
   "outputs": [
    {
     "data": {
      "text/plain": [
       "(676136, 14)"
      ]
     },
     "execution_count": 10,
     "metadata": {},
     "output_type": "execute_result"
    }
   ],
   "source": [
    "feature.shape"
   ]
  },
  {
   "cell_type": "code",
   "execution_count": 11,
   "metadata": {
    "scrolled": true
   },
   "outputs": [
    {
     "data": {
      "text/html": [
       "<div>\n",
       "<style scoped>\n",
       "    .dataframe tbody tr th:only-of-type {\n",
       "        vertical-align: middle;\n",
       "    }\n",
       "\n",
       "    .dataframe tbody tr th {\n",
       "        vertical-align: top;\n",
       "    }\n",
       "\n",
       "    .dataframe thead th {\n",
       "        text-align: right;\n",
       "    }\n",
       "</style>\n",
       "<table border=\"1\" class=\"dataframe\">\n",
       "  <thead>\n",
       "    <tr style=\"text-align: right;\">\n",
       "      <th></th>\n",
       "      <th>business_id</th>\n",
       "      <th>user_id</th>\n",
       "      <th>stars_x</th>\n",
       "      <th>like</th>\n",
       "      <th>text</th>\n",
       "      <th>date</th>\n",
       "      <th>count</th>\n",
       "      <th>stars_y</th>\n",
       "      <th>count_x</th>\n",
       "      <th>popularity</th>\n",
       "      <th>pop_label</th>\n",
       "      <th>city</th>\n",
       "      <th>state</th>\n",
       "      <th>count_y</th>\n",
       "    </tr>\n",
       "  </thead>\n",
       "  <tbody>\n",
       "    <tr>\n",
       "      <td>0</td>\n",
       "      <td>d_q4avZYM1sOlQP7noJKVg</td>\n",
       "      <td>UreiTV1I9i-XF6_bJhK6Iw</td>\n",
       "      <td>4.0</td>\n",
       "      <td>1</td>\n",
       "      <td>always fun outing come great hot dogs fixings ...</td>\n",
       "      <td>2018-04-15 11:13:11</td>\n",
       "      <td>1</td>\n",
       "      <td>2.450000</td>\n",
       "      <td>20.0</td>\n",
       "      <td>-1.647653</td>\n",
       "      <td>1.0</td>\n",
       "      <td>Phoenix</td>\n",
       "      <td>AZ</td>\n",
       "      <td>69200.0</td>\n",
       "    </tr>\n",
       "    <tr>\n",
       "      <td>1</td>\n",
       "      <td>ACb637NG7EnswRs8U_BX_w</td>\n",
       "      <td>dZxXGlJtNwr9pag5UXCa4A</td>\n",
       "      <td>5.0</td>\n",
       "      <td>0</td>\n",
       "      <td>travel lots business one funniest places heath...</td>\n",
       "      <td>2018-03-15 20:18:36</td>\n",
       "      <td>1</td>\n",
       "      <td>3.133333</td>\n",
       "      <td>90.0</td>\n",
       "      <td>0.599975</td>\n",
       "      <td>3.0</td>\n",
       "      <td>Tempe</td>\n",
       "      <td>AZ</td>\n",
       "      <td>17812.0</td>\n",
       "    </tr>\n",
       "    <tr>\n",
       "      <td>2</td>\n",
       "      <td>kBJfBVaXJtPEKLTov1hJdQ</td>\n",
       "      <td>dZudYQD1T2U5RSJeJWYCLw</td>\n",
       "      <td>5.0</td>\n",
       "      <td>2</td>\n",
       "      <td>i'm arizona reathrey sekong food good authenti...</td>\n",
       "      <td>2018-03-15 19:48:59</td>\n",
       "      <td>1</td>\n",
       "      <td>4.600000</td>\n",
       "      <td>60.0</td>\n",
       "      <td>6.550951</td>\n",
       "      <td>5.0</td>\n",
       "      <td>Phoenix</td>\n",
       "      <td>AZ</td>\n",
       "      <td>69200.0</td>\n",
       "    </tr>\n",
       "  </tbody>\n",
       "</table>\n",
       "</div>"
      ],
      "text/plain": [
       "              business_id                 user_id  stars_x  like  \\\n",
       "0  d_q4avZYM1sOlQP7noJKVg  UreiTV1I9i-XF6_bJhK6Iw      4.0     1   \n",
       "1  ACb637NG7EnswRs8U_BX_w  dZxXGlJtNwr9pag5UXCa4A      5.0     0   \n",
       "2  kBJfBVaXJtPEKLTov1hJdQ  dZudYQD1T2U5RSJeJWYCLw      5.0     2   \n",
       "\n",
       "                                                text                 date  \\\n",
       "0  always fun outing come great hot dogs fixings ...  2018-04-15 11:13:11   \n",
       "1  travel lots business one funniest places heath...  2018-03-15 20:18:36   \n",
       "2  i'm arizona reathrey sekong food good authenti...  2018-03-15 19:48:59   \n",
       "\n",
       "   count   stars_y  count_x  popularity  pop_label     city state  count_y  \n",
       "0      1  2.450000     20.0   -1.647653        1.0  Phoenix    AZ  69200.0  \n",
       "1      1  3.133333     90.0    0.599975        3.0    Tempe    AZ  17812.0  \n",
       "2      1  4.600000     60.0    6.550951        5.0  Phoenix    AZ  69200.0  "
      ]
     },
     "execution_count": 11,
     "metadata": {},
     "output_type": "execute_result"
    }
   ],
   "source": [
    "feature.head(3)"
   ]
  },
  {
   "cell_type": "markdown",
   "metadata": {},
   "source": [
    "### Select required columns"
   ]
  },
  {
   "cell_type": "code",
   "execution_count": 12,
   "metadata": {
    "scrolled": true
   },
   "outputs": [],
   "source": [
    "feature = feature.iloc[:,[0,1,2,3,4,9,10,-1]]\n",
    "feature.columns = ['business_id', 'user_id', 'stars', 'like', 'text', 'popularity', 'pop_label', 'city_count']"
   ]
  },
  {
   "cell_type": "code",
   "execution_count": 13,
   "metadata": {
    "scrolled": true
   },
   "outputs": [
    {
     "data": {
      "text/html": [
       "<div>\n",
       "<style scoped>\n",
       "    .dataframe tbody tr th:only-of-type {\n",
       "        vertical-align: middle;\n",
       "    }\n",
       "\n",
       "    .dataframe tbody tr th {\n",
       "        vertical-align: top;\n",
       "    }\n",
       "\n",
       "    .dataframe thead th {\n",
       "        text-align: right;\n",
       "    }\n",
       "</style>\n",
       "<table border=\"1\" class=\"dataframe\">\n",
       "  <thead>\n",
       "    <tr style=\"text-align: right;\">\n",
       "      <th></th>\n",
       "      <th>business_id</th>\n",
       "      <th>user_id</th>\n",
       "      <th>stars</th>\n",
       "      <th>like</th>\n",
       "      <th>text</th>\n",
       "      <th>popularity</th>\n",
       "      <th>pop_label</th>\n",
       "      <th>city_count</th>\n",
       "    </tr>\n",
       "  </thead>\n",
       "  <tbody>\n",
       "    <tr>\n",
       "      <td>0</td>\n",
       "      <td>d_q4avZYM1sOlQP7noJKVg</td>\n",
       "      <td>UreiTV1I9i-XF6_bJhK6Iw</td>\n",
       "      <td>4.0</td>\n",
       "      <td>1</td>\n",
       "      <td>always fun outing come great hot dogs fixings ...</td>\n",
       "      <td>-1.647653</td>\n",
       "      <td>1.0</td>\n",
       "      <td>69200.0</td>\n",
       "    </tr>\n",
       "    <tr>\n",
       "      <td>1</td>\n",
       "      <td>ACb637NG7EnswRs8U_BX_w</td>\n",
       "      <td>dZxXGlJtNwr9pag5UXCa4A</td>\n",
       "      <td>5.0</td>\n",
       "      <td>0</td>\n",
       "      <td>travel lots business one funniest places heath...</td>\n",
       "      <td>0.599975</td>\n",
       "      <td>3.0</td>\n",
       "      <td>17812.0</td>\n",
       "    </tr>\n",
       "    <tr>\n",
       "      <td>2</td>\n",
       "      <td>kBJfBVaXJtPEKLTov1hJdQ</td>\n",
       "      <td>dZudYQD1T2U5RSJeJWYCLw</td>\n",
       "      <td>5.0</td>\n",
       "      <td>2</td>\n",
       "      <td>i'm arizona reathrey sekong food good authenti...</td>\n",
       "      <td>6.550951</td>\n",
       "      <td>5.0</td>\n",
       "      <td>69200.0</td>\n",
       "    </tr>\n",
       "  </tbody>\n",
       "</table>\n",
       "</div>"
      ],
      "text/plain": [
       "              business_id                 user_id  stars  like  \\\n",
       "0  d_q4avZYM1sOlQP7noJKVg  UreiTV1I9i-XF6_bJhK6Iw    4.0     1   \n",
       "1  ACb637NG7EnswRs8U_BX_w  dZxXGlJtNwr9pag5UXCa4A    5.0     0   \n",
       "2  kBJfBVaXJtPEKLTov1hJdQ  dZudYQD1T2U5RSJeJWYCLw    5.0     2   \n",
       "\n",
       "                                                text  popularity  pop_label  \\\n",
       "0  always fun outing come great hot dogs fixings ...   -1.647653        1.0   \n",
       "1  travel lots business one funniest places heath...    0.599975        3.0   \n",
       "2  i'm arizona reathrey sekong food good authenti...    6.550951        5.0   \n",
       "\n",
       "   city_count  \n",
       "0     69200.0  \n",
       "1     17812.0  \n",
       "2     69200.0  "
      ]
     },
     "execution_count": 13,
     "metadata": {},
     "output_type": "execute_result"
    }
   ],
   "source": [
    "feature.head(3)"
   ]
  },
  {
   "cell_type": "markdown",
   "metadata": {},
   "source": [
    "### Remove NAs"
   ]
  },
  {
   "cell_type": "code",
   "execution_count": 14,
   "metadata": {
    "scrolled": false
   },
   "outputs": [
    {
     "data": {
      "text/plain": [
       "(660000, 8)"
      ]
     },
     "execution_count": 14,
     "metadata": {},
     "output_type": "execute_result"
    }
   ],
   "source": [
    "feature = feature.dropna().reset_index().drop(columns=['index'])\n",
    "feature.shape"
   ]
  },
  {
   "cell_type": "markdown",
   "metadata": {},
   "source": [
    "### Add Extra Features"
   ]
  },
  {
   "cell_type": "code",
   "execution_count": 15,
   "metadata": {
    "scrolled": false
   },
   "outputs": [
    {
     "data": {
      "text/plain": [
       "(array([3.32841e+05, 1.92639e+05, 7.45800e+04, 3.12480e+04, 1.39010e+04,\n",
       "        6.72000e+03, 3.44100e+03, 1.79000e+03, 1.01600e+03, 6.46000e+02,\n",
       "        4.26000e+02, 2.96000e+02, 1.82000e+02, 1.82000e+02, 6.70000e+01,\n",
       "        1.90000e+01, 3.00000e+00, 0.00000e+00, 1.00000e+00, 2.00000e+00]),\n",
       " array([  1.  ,  34.95,  68.9 , 102.85, 136.8 , 170.75, 204.7 , 238.65,\n",
       "        272.6 , 306.55, 340.5 , 374.45, 408.4 , 442.35, 476.3 , 510.25,\n",
       "        544.2 , 578.15, 612.1 , 646.05, 680.  ]),\n",
       " <a list of 20 Patch objects>)"
      ]
     },
     "execution_count": 15,
     "metadata": {},
     "output_type": "execute_result"
    },
    {
     "data": {
      "image/png": "[encoded data removed]",
      "text/plain": [
       "<Figure size 432x288 with 1 Axes>"
      ]
     },
     "metadata": {
      "needs_background": "light"
     },
     "output_type": "display_data"
    }
   ],
   "source": [
    "# Length of texts\n",
    "feature['text_len'] = feature['text'].str.split().str.len()\n",
    "\n",
    "# Text_len distribution\n",
    "plt.hist(feature['text_len'], bins=20)"
   ]
  },
  {
   "cell_type": "code",
   "execution_count": 16,
   "metadata": {
    "scrolled": true
   },
   "outputs": [],
   "source": [
    "# Calculate restuarant-wide average stars and number of reviews in 2018\n",
    "feature['count'] = 1\n",
    "res_feature = feature.groupby(['business_id']) \\\n",
    "                .agg({'stars':'mean', 'count':'sum'}) \\\n",
    "                .rename(columns={'stars':'avg_stars', 'count':'review_count'})\n",
    "\n",
    "# Merge features\n",
    "feature = pd.merge(feature, res_feature[['avg_stars', 'review_count']], how='left', on=['business_id'])\n",
    "feature = feature.drop(columns=['count'])"
   ]
  },
  {
   "cell_type": "code",
   "execution_count": 17,
   "metadata": {
    "scrolled": true
   },
   "outputs": [
    {
     "data": {
      "text/html": [
       "<div>\n",
       "<style scoped>\n",
       "    .dataframe tbody tr th:only-of-type {\n",
       "        vertical-align: middle;\n",
       "    }\n",
       "\n",
       "    .dataframe tbody tr th {\n",
       "        vertical-align: top;\n",
       "    }\n",
       "\n",
       "    .dataframe thead th {\n",
       "        text-align: right;\n",
       "    }\n",
       "</style>\n",
       "<table border=\"1\" class=\"dataframe\">\n",
       "  <thead>\n",
       "    <tr style=\"text-align: right;\">\n",
       "      <th></th>\n",
       "      <th>business_id</th>\n",
       "      <th>user_id</th>\n",
       "      <th>stars</th>\n",
       "      <th>like</th>\n",
       "      <th>text</th>\n",
       "      <th>popularity</th>\n",
       "      <th>pop_label</th>\n",
       "      <th>city_count</th>\n",
       "      <th>text_len</th>\n",
       "      <th>avg_stars</th>\n",
       "      <th>review_count</th>\n",
       "    </tr>\n",
       "  </thead>\n",
       "  <tbody>\n",
       "    <tr>\n",
       "      <td>0</td>\n",
       "      <td>d_q4avZYM1sOlQP7noJKVg</td>\n",
       "      <td>UreiTV1I9i-XF6_bJhK6Iw</td>\n",
       "      <td>4.0</td>\n",
       "      <td>1</td>\n",
       "      <td>always fun outing come great hot dogs fixings ...</td>\n",
       "      <td>-1.647653</td>\n",
       "      <td>1.0</td>\n",
       "      <td>69200.0</td>\n",
       "      <td>17</td>\n",
       "      <td>3.514286</td>\n",
       "      <td>35</td>\n",
       "    </tr>\n",
       "    <tr>\n",
       "      <td>1</td>\n",
       "      <td>ACb637NG7EnswRs8U_BX_w</td>\n",
       "      <td>dZxXGlJtNwr9pag5UXCa4A</td>\n",
       "      <td>5.0</td>\n",
       "      <td>0</td>\n",
       "      <td>travel lots business one funniest places heath...</td>\n",
       "      <td>0.599975</td>\n",
       "      <td>3.0</td>\n",
       "      <td>17812.0</td>\n",
       "      <td>14</td>\n",
       "      <td>3.817391</td>\n",
       "      <td>115</td>\n",
       "    </tr>\n",
       "    <tr>\n",
       "      <td>2</td>\n",
       "      <td>kBJfBVaXJtPEKLTov1hJdQ</td>\n",
       "      <td>dZudYQD1T2U5RSJeJWYCLw</td>\n",
       "      <td>5.0</td>\n",
       "      <td>2</td>\n",
       "      <td>i'm arizona reathrey sekong food good authenti...</td>\n",
       "      <td>6.550951</td>\n",
       "      <td>5.0</td>\n",
       "      <td>69200.0</td>\n",
       "      <td>12</td>\n",
       "      <td>4.418182</td>\n",
       "      <td>55</td>\n",
       "    </tr>\n",
       "  </tbody>\n",
       "</table>\n",
       "</div>"
      ],
      "text/plain": [
       "              business_id                 user_id  stars  like  \\\n",
       "0  d_q4avZYM1sOlQP7noJKVg  UreiTV1I9i-XF6_bJhK6Iw    4.0     1   \n",
       "1  ACb637NG7EnswRs8U_BX_w  dZxXGlJtNwr9pag5UXCa4A    5.0     0   \n",
       "2  kBJfBVaXJtPEKLTov1hJdQ  dZudYQD1T2U5RSJeJWYCLw    5.0     2   \n",
       "\n",
       "                                                text  popularity  pop_label  \\\n",
       "0  always fun outing come great hot dogs fixings ...   -1.647653        1.0   \n",
       "1  travel lots business one funniest places heath...    0.599975        3.0   \n",
       "2  i'm arizona reathrey sekong food good authenti...    6.550951        5.0   \n",
       "\n",
       "   city_count  text_len  avg_stars  review_count  \n",
       "0     69200.0        17   3.514286            35  \n",
       "1     17812.0        14   3.817391           115  \n",
       "2     69200.0        12   4.418182            55  "
      ]
     },
     "execution_count": 17,
     "metadata": {},
     "output_type": "execute_result"
    }
   ],
   "source": [
    "feature.head(3)"
   ]
  },
  {
   "cell_type": "code",
   "execution_count": 18,
   "metadata": {
    "scrolled": true
   },
   "outputs": [
    {
     "data": {
      "text/plain": [
       "(67911, 56912, 63962, 112812, 358403)"
      ]
     },
     "execution_count": 18,
     "metadata": {},
     "output_type": "execute_result"
    }
   ],
   "source": [
    "# Label distribtion\n",
    "len(feature[feature['pop_label'] == 1]), len(feature[feature['pop_label'] == 2]), len(feature[feature['pop_label'] == 3]), \\\n",
    "len(feature[feature['pop_label'] == 4]), len(feature[feature['pop_label'] == 5])"
   ]
  },
  {
   "cell_type": "markdown",
   "metadata": {},
   "source": [
    "# Export Features"
   ]
  },
  {
   "cell_type": "code",
   "execution_count": 19,
   "metadata": {
    "scrolled": true
   },
   "outputs": [],
   "source": [
    "feature.to_csv(r'D:\\Tony\\Programming\\Datasets\\Yelp\\yelp_feature.csv', index=False, encoding='utf-8')"
   ]
  }
 ],
 "metadata": {
  "kernelspec": {
   "display_name": "Python 3",
   "language": "python",
   "name": "python3"
  },
  "language_info": {
   "codemirror_mode": {
    "name": "ipython",
    "version": 3
   },
   "file_extension": ".py",
   "mimetype": "text/x-python",
   "name": "python",
   "nbconvert_exporter": "python",
   "pygments_lexer": "ipython3",
   "version": "3.7.4"
  }
 },
 "nbformat": 4,
 "nbformat_minor": 2
}
